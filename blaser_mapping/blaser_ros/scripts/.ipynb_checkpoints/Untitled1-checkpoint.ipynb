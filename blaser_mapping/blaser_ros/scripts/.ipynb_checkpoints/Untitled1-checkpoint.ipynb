{
 "cells": [
  {
   "cell_type": "code",
   "execution_count": 3,
   "metadata": {},
   "outputs": [],
   "source": [
    "import cv2\n",
    "import numpy as np\n",
    "from scipy.spatial.transform import Rotation\n",
    "from math import sin, cos, radians, degrees, pi\n",
    "np.set_printoptions(suppress=True)"
   ]
  },
  {
   "cell_type": "code",
   "execution_count": 58,
   "metadata": {},
   "outputs": [],
   "source": [
    "def skew(vector):\n",
    "    return np.array([[0, -vector[2], vector[1]], \n",
    "                     [vector[2], 0, -vector[0]], \n",
    "                     [-vector[1], vector[0], 0]])\n",
    "\n",
    "def evalRt(R_est, t_est, euler, t):\n",
    "    euler_est = Rotation.from_matrix(R_est).as_euler('xyz')\n",
    "    t_est = t_est.reshape(3)\n",
    "    for i in range(3):\n",
    "        if euler_est[i] > pi / 2:\n",
    "            euler_est[i] -= pi\n",
    "    euler_err = np.linalg.norm(np.minimum(np.abs(euler_est - euler), np.abs(euler - euler_est))) / np.linalg.norm(euler)\n",
    "    t_est = t_est / np.linalg.norm(t_est) * np.linalg.norm(t) # rescale\n",
    "    t_err = np.linalg.norm(np.abs(t - t_est)) / np.linalg.norm(t)\n",
    "    print(\"t ground truth: \", t)\n",
    "    print(\"t est: \",t_est)\n",
    "    print(\"euelr gt: \", euler)\n",
    "    print(\"euler est: \", euler_est)\n",
    "    print(\"t err: \", t_err)\n",
    "    print(\"euler err: \", euler_err)\n",
    "    print(\"\\n\")"
   ]
  },
  {
   "cell_type": "markdown",
   "metadata": {},
   "source": [
    "### Generate 3d points and 2d pixels"
   ]
  },
  {
   "cell_type": "code",
   "execution_count": 93,
   "metadata": {},
   "outputs": [
    {
     "name": "stdout",
     "output_type": "stream",
     "text": [
      "[ 0.00017365  0.         -0.00001519]\n"
     ]
    }
   ],
   "source": [
    "# initialize transformation\n",
    "baseline = 0.03162277  # distance from joint to camera optical center, 1cm\n",
    "theta = radians(10)\n",
    "euler = np.array([0, theta, 0])  # joint rotation angle in degrees\n",
    "R = Rotation.from_euler('xyz', euler, degrees=False)\n",
    "t = np.array([baseline * sin(theta), 0, -(baseline - baseline * cos(theta))])\n",
    "T = np.zeros((4, 4))\n",
    "T[:3, :3] = R.as_matrix()\n",
    "T[3,3] = 1.\n",
    "T[:3, 3] = t\n",
    "print(t)\n",
    "\n",
    "# set initial points (10), x [-0.2, 0.2], y in [-0.15, .15], z in [0.1, .3]\n",
    "N_PTS = 50\n",
    "pt_w = np.random.random((N_PTS, 3))\n",
    "pt_w[:, 0] = pt_w[:, 0] * 0.4 - 0.2\n",
    "pt_w[:, 1] = pt_w[:, 1] * 0.3 - 0.15\n",
    "pt_w[:, 2] = pt_w[:, 2] * 0.2 + 0.1\n",
    "\n",
    "pt_w_h = np.ones((N_PTS, 4)) # homogeneous coordinates\n",
    "pt_w_h[:, :3] = pt_w\n",
    "\n",
    "# get pixels in 2d with noise and integer round up error\n",
    "K = np.array([[339.4, 0, 321.9], [0, 339.7, 226.2], [0, 0, 1.]])\n",
    "puv1 = (np.matmul(K, pt_w_h.T[:3, :]) / np.tile(np.matmul(K, pt_w_h.T[:3, :])[2,:], (3,1)))[:2, :].T\n",
    "puv2 = (np.matmul(K, np.matmul(T, pt_w_h.T)[:3, :]) / np.tile(np.matmul(K, np.matmul(T, pt_w_h.T)[:3, :])[2, :], (3,1)))[:2,:].T\n",
    "puv1_ni = np.int32(np.rint(puv1 + np.random.normal(scale=3, size=(N_PTS, 2))))\n",
    "puv2_ni = np.int32(np.rint(puv2 + np.random.normal(scale=3, size=(N_PTS, 2))))"
   ]
  },
  {
   "cell_type": "markdown",
   "metadata": {},
   "source": [
    "### Estimate fundamental, solve for R t, and eval error rate"
   ]
  },
  {
   "cell_type": "code",
   "execution_count": 94,
   "metadata": {},
   "outputs": [
    {
     "name": "stdout",
     "output_type": "stream",
     "text": [
      "t ground truth:  [ 0.00017365  0.         -0.00001519]\n",
      "t est:  [ 0.00011085 -0.00005606  0.00012229]\n",
      "euelr gt:  [0.         0.17453293 0.        ]\n",
      "euler est:  [ 0.00236088  0.16613908 -0.01244973]\n",
      "t err:  0.9248080861440643\n",
      "euler err:  0.08708698848396756\n",
      "\n",
      "\n",
      "t ground truth:  [ 0.00017365  0.         -0.00001519]\n",
      "t est:  [-0.00011085  0.00005606 -0.00012229]\n",
      "euelr gt:  [0.         0.17453293 0.        ]\n",
      "euler est:  [-1.27486603 -1.09307996 -2.37478036]\n",
      "t err:  1.7733386602120174\n",
      "euler err:  17.065783856553942\n",
      "\n",
      "\n"
     ]
    }
   ],
   "source": [
    "F, mask = cv2.findFundamentalMat(puv1_ni, puv2_ni, cv2.FM_8POINT)\n",
    "E = K.T.dot(F).dot(K)\n",
    "R1, R2, t_est = cv2.decomposeEssentialMat(E)\n",
    "evalRt(R1, t_est, euler, t)\n",
    "evalRt(R2, -t_est, euler, t)"
   ]
  },
  {
   "cell_type": "code",
   "execution_count": null,
   "metadata": {},
   "outputs": [],
   "source": [
    "euler_err = np.array([[0.045597, 0.060830479],\n",
    "                      [0.049696935, 0.020570586, 0.044756, 0.0260176, 0.0147433], \n",
    "                      [0.073563, 0.0446892, 0.03898206, 0.037205022, 0.02512616],\n",
    "                      [0.0280946, 0.04086644, 0.11912304, 0.054875145, 0.0382422190]])\n",
    "t_err = np.array([[1.062793, 0.661449],\n",
    "                  [0.864721, 0.259404678, 1.760131, 0.8736392, 1.265848], \n",
    "                  [0.15310397, 0.0980089, 0.15720568, 0.26181809, 0.15266775],\n",
    "                  [0.00240634, 0.018018, 0.0529681, 0.0141170, 0.00673846]])"
   ]
  }
 ],
 "metadata": {
  "kernelspec": {
   "display_name": "Python 3",
   "language": "python",
   "name": "python3"
  },
  "language_info": {
   "codemirror_mode": {
    "name": "ipython",
    "version": 3
   },
   "file_extension": ".py",
   "mimetype": "text/x-python",
   "name": "python",
   "nbconvert_exporter": "python",
   "pygments_lexer": "ipython3",
   "version": "3.6.9"
  }
 },
 "nbformat": 4,
 "nbformat_minor": 4
}
